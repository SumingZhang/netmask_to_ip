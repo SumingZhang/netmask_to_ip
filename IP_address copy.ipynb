{
 "cells": [
  {
   "cell_type": "code",
   "execution_count": 1,
   "metadata": {
    "ExecuteTime": {
     "end_time": "2021-05-25T19:02:49.211800Z",
     "start_time": "2021-05-25T19:02:48.895829Z"
    }
   },
   "outputs": [],
   "source": [
    "import ipaddress\n",
    "import binascii\n",
    "import socket,struct\n",
    "import pandas as pd\n",
    "import numpy as np\n",
    "import os"
   ]
  },
  {
   "cell_type": "code",
   "execution_count": 2,
   "metadata": {},
   "outputs": [
    {
     "data": {
      "text/plain": [
       "'/home/jovyan/mydir/GeoIP2-City-CSV_20210525'"
      ]
     },
     "execution_count": 2,
     "metadata": {},
     "output_type": "execute_result"
    }
   ],
   "source": [
    "os.getcwd()"
   ]
  },
  {
   "cell_type": "code",
   "execution_count": 3,
   "metadata": {
    "ExecuteTime": {
     "end_time": "2021-05-25T19:02:54.162666Z",
     "start_time": "2021-05-25T19:02:51.826420Z"
    },
    "scrolled": true
   },
   "outputs": [],
   "source": [
    "df_block = pd.read_csv (\"./GeoIP2-City-Blocks-IPv4.csv\",usecols=[0,1,2])\n",
    "df_location= pd.read_csv (\"./GeoIP2-City-Locations-en.csv\",usecols=[0,3,5,10])"
   ]
  },
  {
   "cell_type": "code",
   "execution_count": 4,
   "metadata": {
    "scrolled": false
   },
   "outputs": [
    {
     "data": {
      "text/plain": [
       "network                          9205310\n",
       "geoname_id                       9202122\n",
       "registered_country_geoname_id    9202489\n",
       "dtype: int64"
      ]
     },
     "execution_count": 4,
     "metadata": {},
     "output_type": "execute_result"
    }
   ],
   "source": [
    "df_block.count()"
   ]
  },
  {
   "cell_type": "code",
   "execution_count": 5,
   "metadata": {
    "scrolled": true
   },
   "outputs": [
    {
     "data": {
      "text/plain": [
       "geoname_id        164431\n",
       "continent_name    164431\n",
       "country_name      164429\n",
       "city_name         163541\n",
       "dtype: int64"
      ]
     },
     "execution_count": 5,
     "metadata": {},
     "output_type": "execute_result"
    }
   ],
   "source": [
    "df_location.count()"
   ]
  },
  {
   "cell_type": "code",
   "execution_count": 6,
   "metadata": {},
   "outputs": [
    {
     "data": {
      "text/plain": [
       "3188"
      ]
     },
     "execution_count": 6,
     "metadata": {},
     "output_type": "execute_result"
    }
   ],
   "source": [
    "df_block['geoname_id'].isna().sum()"
   ]
  },
  {
   "cell_type": "code",
   "execution_count": 21,
   "metadata": {},
   "outputs": [],
   "source": [
    "na_df=df_block[df_block['geoname_id'].isna()]"
   ]
  },
  {
   "cell_type": "code",
   "execution_count": 22,
   "metadata": {
    "scrolled": false
   },
   "outputs": [
    {
     "data": {
      "text/html": [
       "<div>\n",
       "<style scoped>\n",
       "    .dataframe tbody tr th:only-of-type {\n",
       "        vertical-align: middle;\n",
       "    }\n",
       "\n",
       "    .dataframe tbody tr th {\n",
       "        vertical-align: top;\n",
       "    }\n",
       "\n",
       "    .dataframe thead th {\n",
       "        text-align: right;\n",
       "    }\n",
       "</style>\n",
       "<table border=\"1\" class=\"dataframe\">\n",
       "  <thead>\n",
       "    <tr style=\"text-align: right;\">\n",
       "      <th></th>\n",
       "      <th>network</th>\n",
       "      <th>geoname_id</th>\n",
       "      <th>registered_country_geoname_id</th>\n",
       "    </tr>\n",
       "  </thead>\n",
       "  <tbody>\n",
       "    <tr>\n",
       "      <th>5194829</th>\n",
       "      <td>103.151.145.10/32</td>\n",
       "      <td>NaN</td>\n",
       "      <td>NaN</td>\n",
       "    </tr>\n",
       "  </tbody>\n",
       "</table>\n",
       "</div>"
      ],
      "text/plain": [
       "                   network  geoname_id  registered_country_geoname_id\n",
       "5194829  103.151.145.10/32         NaN                            NaN"
      ]
     },
     "execution_count": 22,
     "metadata": {},
     "output_type": "execute_result"
    }
   ],
   "source": [
    "na_df"
   ]
  },
  {
   "cell_type": "code",
   "execution_count": 18,
   "metadata": {},
   "outputs": [
    {
     "data": {
      "text/plain": [
       "(1737986314, 1737986314)"
      ]
     },
     "execution_count": 18,
     "metadata": {},
     "output_type": "execute_result"
    }
   ],
   "source": [
    "subnetwork_to_ip_range(\"103.151.145.10/32\") #(103.151.145.10, 103.151.145.10)"
   ]
  },
  {
   "cell_type": "code",
   "execution_count": 7,
   "metadata": {
    "ExecuteTime": {
     "end_time": "2021-05-25T19:02:56.641068Z",
     "start_time": "2021-05-25T19:02:56.636135Z"
    }
   },
   "outputs": [],
   "source": [
    "def subnetwork_to_ip_range(subnetwork):\n",
    " \n",
    "    \"\"\"\n",
    "    Returns a tuple (ip_lower, ip_upper, version) containing the\n",
    "    integer values of the lower and upper IP addresses respectively\n",
    "    in a subnetwork expressed in CIDR notation (as a string), with\n",
    "    version being the subnetwork IP version (either 4 or 6).\n",
    " \n",
    "    Both IPv4 subnetworks (e.g. \"192.168.1.0/24\") and IPv6\n",
    "    subnetworks (e.g. \"2a02:a448:ddb0::/44\") are accepted.\n",
    "    \"\"\"\n",
    " \n",
    "    try:\n",
    "        fragments = subnetwork.split('/')\n",
    "        network_prefix = fragments[0]\n",
    "        netmask_len = int(fragments[1])\n",
    " \n",
    "        # try parsing the subnetwork first as IPv4, then as IPv6\n",
    "        for version in (socket.AF_INET, socket.AF_INET6):\n",
    " \n",
    "            ip_len = 32 if version == socket.AF_INET else 128\n",
    " \n",
    "            try:\n",
    "                suffix_mask = (1 << (ip_len - netmask_len)) - 1\n",
    "                netmask = ((1 << ip_len) - 1) - suffix_mask\n",
    "                ip_hex = socket.inet_pton(version, network_prefix)\n",
    "                ip_lower = int(binascii.hexlify(ip_hex), 16) & netmask\n",
    "                ip_upper = ip_lower + suffix_mask\n",
    " \n",
    "                return (ip_lower,\n",
    "                        ip_upper)\n",
    "                        #4 if version == socket.AF_INET else 6)\n",
    "            except:\n",
    "                pass\n",
    "    except:\n",
    "        pass\n",
    " \n",
    "    raise ValueError(\"invalid subnetwork\")\n",
    "#subnetwork_to_ip_range(\"192.0.2.16/29\")\n",
    "# def ip_address(netmaskip):\n",
    "#     if type(netmaskip) != str:\n",
    "#         return False\n",
    "#     else:\n",
    "#         min_ip,max_ip, v4orv6 =subnetwork_to_ip_range(netmaskip)\n",
    "#         min_ip=socket.inet_ntoa(struct.pack('!L', min_ip))\n",
    "#         max_ip= socket.inet_ntoa(struct.pack('!L', max_ip))\n",
    "#     return min_ip, max_ip"
   ]
  },
  {
   "cell_type": "code",
   "execution_count": 8,
   "metadata": {},
   "outputs": [],
   "source": [
    "ip_range=[]\n",
    "for i in df_block['network']:\n",
    "    ip_range.append(subnetwork_to_ip_range(i))\n",
    "    #df_block['low_ip'],df_block['high_ip']=(subnetwork_to_ip_range(i))\n",
    "df_ip = pd.DataFrame(ip_range, columns=['low_ip','high_ip'])"
   ]
  },
  {
   "cell_type": "code",
   "execution_count": 9,
   "metadata": {},
   "outputs": [],
   "source": [
    "df_block.geoname_id.fillna(value=df_block['registered_country_geoname_id'], inplace=True)"
   ]
  },
  {
   "cell_type": "code",
   "execution_count": 10,
   "metadata": {
    "scrolled": true
   },
   "outputs": [
    {
     "name": "stdout",
     "output_type": "stream",
     "text": [
      "low_ip        9205310\n",
      "high_ip       9205310\n",
      "geoname_id    9205309\n",
      "dtype: int64\n"
     ]
    },
    {
     "data": {
      "text/plain": [
       "1"
      ]
     },
     "execution_count": 10,
     "metadata": {},
     "output_type": "execute_result"
    }
   ],
   "source": [
    "df_ip['geoname_id']=df_block['geoname_id']\n",
    "print(df_ip.count())\n",
    "df_ip['geoname_id'].isna().sum()"
   ]
  },
  {
   "cell_type": "code",
   "execution_count": 11,
   "metadata": {},
   "outputs": [
    {
     "data": {
      "text/plain": [
       "low_ip        9205310\n",
       "high_ip       9205310\n",
       "geoname_id     161521\n",
       "dtype: int64"
      ]
     },
     "execution_count": 11,
     "metadata": {},
     "output_type": "execute_result"
    }
   ],
   "source": [
    "df_ip.nunique()"
   ]
  },
  {
   "cell_type": "code",
   "execution_count": 12,
   "metadata": {
    "scrolled": true
   },
   "outputs": [
    {
     "data": {
      "text/plain": [
       "geoname_id        164431\n",
       "continent_name         7\n",
       "country_name         250\n",
       "city_name         140076\n",
       "dtype: int64"
      ]
     },
     "execution_count": 12,
     "metadata": {},
     "output_type": "execute_result"
    }
   ],
   "source": [
    "df_location.nunique()"
   ]
  },
  {
   "cell_type": "code",
   "execution_count": 13,
   "metadata": {},
   "outputs": [
    {
     "data": {
      "text/plain": [
       "0"
      ]
     },
     "execution_count": 13,
     "metadata": {},
     "output_type": "execute_result"
    }
   ],
   "source": [
    "df_location['geoname_id'].isna().sum()"
   ]
  },
  {
   "cell_type": "code",
   "execution_count": 14,
   "metadata": {
    "ExecuteTime": {
     "end_time": "2021-05-25T19:03:13.396197Z",
     "start_time": "2021-05-25T19:03:00.409381Z"
    },
    "scrolled": true
   },
   "outputs": [
    {
     "data": {
      "text/html": [
       "<div>\n",
       "<style scoped>\n",
       "    .dataframe tbody tr th:only-of-type {\n",
       "        vertical-align: middle;\n",
       "    }\n",
       "\n",
       "    .dataframe tbody tr th {\n",
       "        vertical-align: top;\n",
       "    }\n",
       "\n",
       "    .dataframe thead th {\n",
       "        text-align: right;\n",
       "    }\n",
       "</style>\n",
       "<table border=\"1\" class=\"dataframe\">\n",
       "  <thead>\n",
       "    <tr style=\"text-align: right;\">\n",
       "      <th></th>\n",
       "      <th>low_ip</th>\n",
       "      <th>high_ip</th>\n",
       "      <th>geoname_id</th>\n",
       "      <th>continent_name</th>\n",
       "      <th>country_name</th>\n",
       "      <th>city_name</th>\n",
       "    </tr>\n",
       "  </thead>\n",
       "  <tbody>\n",
       "    <tr>\n",
       "      <th>0</th>\n",
       "      <td>16777216</td>\n",
       "      <td>16777471</td>\n",
       "      <td>2077456.0</td>\n",
       "      <td>Oceania</td>\n",
       "      <td>Australia</td>\n",
       "      <td>NaN</td>\n",
       "    </tr>\n",
       "    <tr>\n",
       "      <th>1</th>\n",
       "      <td>16778240</td>\n",
       "      <td>16779263</td>\n",
       "      <td>2077456.0</td>\n",
       "      <td>Oceania</td>\n",
       "      <td>Australia</td>\n",
       "      <td>NaN</td>\n",
       "    </tr>\n",
       "    <tr>\n",
       "      <th>2</th>\n",
       "      <td>16843008</td>\n",
       "      <td>16843263</td>\n",
       "      <td>2077456.0</td>\n",
       "      <td>Oceania</td>\n",
       "      <td>Australia</td>\n",
       "      <td>NaN</td>\n",
       "    </tr>\n",
       "    <tr>\n",
       "      <th>3</th>\n",
       "      <td>16909056</td>\n",
       "      <td>16909311</td>\n",
       "      <td>2077456.0</td>\n",
       "      <td>Oceania</td>\n",
       "      <td>Australia</td>\n",
       "      <td>NaN</td>\n",
       "    </tr>\n",
       "    <tr>\n",
       "      <th>4</th>\n",
       "      <td>17039360</td>\n",
       "      <td>17039615</td>\n",
       "      <td>2077456.0</td>\n",
       "      <td>Oceania</td>\n",
       "      <td>Australia</td>\n",
       "      <td>NaN</td>\n",
       "    </tr>\n",
       "    <tr>\n",
       "      <th>...</th>\n",
       "      <td>...</td>\n",
       "      <td>...</td>\n",
       "      <td>...</td>\n",
       "      <td>...</td>\n",
       "      <td>...</td>\n",
       "      <td>...</td>\n",
       "    </tr>\n",
       "    <tr>\n",
       "      <th>9205304</th>\n",
       "      <td>3756222976</td>\n",
       "      <td>3756223487</td>\n",
       "      <td>11268874.0</td>\n",
       "      <td>Asia</td>\n",
       "      <td>India</td>\n",
       "      <td>Ambapuram</td>\n",
       "    </tr>\n",
       "    <tr>\n",
       "      <th>9205305</th>\n",
       "      <td>3756698624</td>\n",
       "      <td>3756699647</td>\n",
       "      <td>1256762.0</td>\n",
       "      <td>Asia</td>\n",
       "      <td>India</td>\n",
       "      <td>Shadipur</td>\n",
       "    </tr>\n",
       "    <tr>\n",
       "      <th>9205306</th>\n",
       "      <td>3756951552</td>\n",
       "      <td>3756952063</td>\n",
       "      <td>8441068.0</td>\n",
       "      <td>Asia</td>\n",
       "      <td>India</td>\n",
       "      <td>Bagol</td>\n",
       "    </tr>\n",
       "    <tr>\n",
       "      <th>9205307</th>\n",
       "      <td>3756986880</td>\n",
       "      <td>3756987391</td>\n",
       "      <td>1266829.0</td>\n",
       "      <td>Asia</td>\n",
       "      <td>India</td>\n",
       "      <td>Khaur</td>\n",
       "    </tr>\n",
       "    <tr>\n",
       "      <th>9205308</th>\n",
       "      <td>3757063168</td>\n",
       "      <td>3757063679</td>\n",
       "      <td>1556950.0</td>\n",
       "      <td>Asia</td>\n",
       "      <td>China</td>\n",
       "      <td>Wangyingcun</td>\n",
       "    </tr>\n",
       "  </tbody>\n",
       "</table>\n",
       "<p>9205309 rows × 6 columns</p>\n",
       "</div>"
      ],
      "text/plain": [
       "             low_ip     high_ip  geoname_id continent_name country_name  \\\n",
       "0          16777216    16777471   2077456.0        Oceania    Australia   \n",
       "1          16778240    16779263   2077456.0        Oceania    Australia   \n",
       "2          16843008    16843263   2077456.0        Oceania    Australia   \n",
       "3          16909056    16909311   2077456.0        Oceania    Australia   \n",
       "4          17039360    17039615   2077456.0        Oceania    Australia   \n",
       "...             ...         ...         ...            ...          ...   \n",
       "9205304  3756222976  3756223487  11268874.0           Asia        India   \n",
       "9205305  3756698624  3756699647   1256762.0           Asia        India   \n",
       "9205306  3756951552  3756952063   8441068.0           Asia        India   \n",
       "9205307  3756986880  3756987391   1266829.0           Asia        India   \n",
       "9205308  3757063168  3757063679   1556950.0           Asia        China   \n",
       "\n",
       "           city_name  \n",
       "0                NaN  \n",
       "1                NaN  \n",
       "2                NaN  \n",
       "3                NaN  \n",
       "4                NaN  \n",
       "...              ...  \n",
       "9205304    Ambapuram  \n",
       "9205305     Shadipur  \n",
       "9205306        Bagol  \n",
       "9205307        Khaur  \n",
       "9205308  Wangyingcun  \n",
       "\n",
       "[9205309 rows x 6 columns]"
      ]
     },
     "execution_count": 14,
     "metadata": {},
     "output_type": "execute_result"
    }
   ],
   "source": [
    "df = pd.merge(df_ip, df_location, on=[\"geoname_id\"])\n",
    "df"
   ]
  },
  {
   "cell_type": "code",
   "execution_count": 15,
   "metadata": {},
   "outputs": [],
   "source": [
    "df.to_csv('ip_pandas.csv')"
   ]
  }
 ],
 "metadata": {
  "kernelspec": {
   "display_name": "Python 3",
   "language": "python",
   "name": "python3"
  },
  "language_info": {
   "codemirror_mode": {
    "name": "ipython",
    "version": 3
   },
   "file_extension": ".py",
   "mimetype": "text/x-python",
   "name": "python",
   "nbconvert_exporter": "python",
   "pygments_lexer": "ipython3",
   "version": "3.9.4"
  }
 },
 "nbformat": 4,
 "nbformat_minor": 4
}
